{
 "cells": [
  {
   "cell_type": "code",
   "execution_count": null,
   "id": "6d288bb4-e47b-43dc-b46d-d528fd70b8b4",
   "metadata": {},
   "outputs": [],
   "source": [
    "import sys"
   ]
  },
  {
   "cell_type": "code",
   "execution_count": null,
   "id": "d72b9d6e-6e54-4169-bef8-5c234f047714",
   "metadata": {},
   "outputs": [],
   "source": []
  },
  {
   "cell_type": "code",
   "execution_count": null,
   "id": "562a2c0a-0a9a-4a0a-a650-0ee7167def86",
   "metadata": {},
   "outputs": [],
   "source": [
    "!nvidia-smi"
   ]
  },
  {
   "cell_type": "code",
   "execution_count": null,
   "id": "877d585f-3624-4772-9ccc-d5ddecf889d8",
   "metadata": {},
   "outputs": [],
   "source": []
  },
  {
   "cell_type": "code",
   "execution_count": null,
   "id": "abf6982e-1b47-47a8-8075-840fa3de2353",
   "metadata": {},
   "outputs": [],
   "source": []
  },
  {
   "cell_type": "code",
   "execution_count": null,
   "id": "b8339bac-5fc1-4249-b401-8ac6e21ad28f",
   "metadata": {},
   "outputs": [],
   "source": [
    "!pip3 install --upgrade --user google-cloud-aiplatform"
   ]
  },
  {
   "cell_type": "code",
   "execution_count": null,
   "id": "5f5a332a-c046-4959-8013-e6b950c3ec55",
   "metadata": {},
   "outputs": [],
   "source": [
    "!pip install \"unstructured[all-docs]\" "
   ]
  },
  {
   "cell_type": "code",
   "execution_count": null,
   "id": "7efc017b-776c-45d3-9e06-72b8dc907faf",
   "metadata": {},
   "outputs": [],
   "source": [
    "!pip install langchain"
   ]
  },
  {
   "cell_type": "code",
   "execution_count": null,
   "id": "d9b2d136-f87f-4557-b2fb-269407c45134",
   "metadata": {},
   "outputs": [],
   "source": [
    "!pip install langchain-community"
   ]
  },
  {
   "cell_type": "code",
   "execution_count": null,
   "id": "83cf128b-0262-48b1-92d0-3910be68c2a5",
   "metadata": {},
   "outputs": [],
   "source": [
    "!pip install langchain_google_vertexai"
   ]
  },
  {
   "cell_type": "code",
   "execution_count": null,
   "id": "28dbd32a-9c73-417d-aa6a-bf8e6700db0c",
   "metadata": {},
   "outputs": [],
   "source": [
    "!pip install pillow-heif"
   ]
  },
  {
   "cell_type": "code",
   "execution_count": null,
   "id": "4f64e029-e34f-450f-a1aa-08a71c67d21b",
   "metadata": {},
   "outputs": [],
   "source": [
    "!pip install unstructured_inference"
   ]
  },
  {
   "cell_type": "code",
   "execution_count": null,
   "id": "764647ee-5c45-4fca-9cda-01fdcd209651",
   "metadata": {},
   "outputs": [],
   "source": [
    "!pip install matplotlib"
   ]
  },
  {
   "cell_type": "code",
   "execution_count": null,
   "id": "3dda3876-65e3-4ddd-a997-e2cce31455c6",
   "metadata": {},
   "outputs": [],
   "source": [
    "!pip install tiktoken"
   ]
  },
  {
   "cell_type": "code",
   "execution_count": null,
   "id": "4c9bd4b8-17ed-4d7e-a223-5fd447c29ec2",
   "metadata": {},
   "outputs": [],
   "source": [
    "!pip install pytesseract\n",
    "!pip install tesseract-ocr"
   ]
  },
  {
   "cell_type": "code",
   "execution_count": 1,
   "id": "520d43e4-ea92-4f24-972f-be23d57708fc",
   "metadata": {},
   "outputs": [],
   "source": [
    "pdf_folder_path = \"/home/sridhanya_ganapathi_team_neustar/rag/data/image\"\n",
    "pdf_file_name = \"/home/sridhanya_ganapathi_team_neustar/rag/data/contract_agreement.pdf\"\n",
    "Pdf_title=\"contract_agreement.pdf\"\n"
   ]
  },
  {
   "cell_type": "code",
   "execution_count": 2,
   "id": "89c72fca-2321-46fe-98c9-cd2de37316ca",
   "metadata": {},
   "outputs": [],
   "source": [
    "import sys\n",
    "from langchain_community.document_loaders import PyPDFLoader\n",
    "\n",
    "from google.cloud import aiplatform\n",
    "\n",
    "import base64\n",
    "import os\n",
    "import uuid\n",
    "import re\n",
    "\n",
    "from typing import List, Tuple\n",
    "\n",
    "from IPython.display import display, Image, Markdown\n",
    "\n",
    "from langchain.prompts import PromptTemplate\n",
    "from langchain.retrievers.multi_vector import MultiVectorRetriever\n",
    "from langchain.storage import InMemoryStore\n",
    "\n",
    "from langchain_community.vectorstores import Chroma\n",
    "\n",
    "from langchain_core.documents import Document\n",
    "from langchain_core.runnables import RunnableLambda, RunnablePassthrough\n",
    "from langchain_core.messages import AIMessage, HumanMessage\n",
    "from langchain_core.output_parsers import StrOutputParser\n",
    "\n",
    "from langchain_text_splitters import CharacterTextSplitter\n",
    "\n",
    "from langchain_google_vertexai import (\n",
    "    VertexAI,\n",
    "    ChatVertexAI,\n",
    "    VertexAIEmbeddings,\n",
    "    VectorSearchVectorStore,\n",
    ")\n",
    "\n",
    "from unstructured.partition.pdf import partition_pdf\n"
   ]
  },
  {
   "cell_type": "code",
   "execution_count": 3,
   "id": "e33838cb-7e57-495d-bbcb-3cf55cfe4202",
   "metadata": {},
   "outputs": [
    {
     "name": "stdout",
     "output_type": "stream",
     "text": [
      "Your project ID is: edl-idaas-rnd-platform-d5ae\n"
     ]
    }
   ],
   "source": [
    "PROJECT_ID = \"edl-idaas-rnd-platform-d5ae\"  # @param {type:\"string\"}\n",
    "LOCATION = \"us-central1\"  # @param {type:\"string\"}\n",
    "\n",
    "print(f\"Your project ID is: {PROJECT_ID}\")\n",
    "# For Vector Search Staging\n",
    "GCS_BUCKET = \"sridhanya\"  # @param {type:\"string\"}\n",
    "GCS_BUCKET_URI = f\"gs://{GCS_BUCKET}\""
   ]
  },
  {
   "cell_type": "code",
   "execution_count": 4,
   "id": "074e24ed-eaf6-4b81-87a3-53486dbda57c",
   "metadata": {},
   "outputs": [],
   "source": [
    "aiplatform.init(project=PROJECT_ID, location=LOCATION, staging_bucket=GCS_BUCKET_URI)"
   ]
  },
  {
   "cell_type": "code",
   "execution_count": 5,
   "id": "184bd3e4-956d-4153-9e8b-0e44e2eabbe9",
   "metadata": {},
   "outputs": [
    {
     "name": "stderr",
     "output_type": "stream",
     "text": [
      "2024-08-05 11:51:52.201508: E external/local_xla/xla/stream_executor/cuda/cuda_fft.cc:485] Unable to register cuFFT factory: Attempting to register factory for plugin cuFFT when one has already been registered\n",
      "2024-08-05 11:51:52.412749: E external/local_xla/xla/stream_executor/cuda/cuda_dnn.cc:8454] Unable to register cuDNN factory: Attempting to register factory for plugin cuDNN when one has already been registered\n",
      "2024-08-05 11:51:52.473905: E external/local_xla/xla/stream_executor/cuda/cuda_blas.cc:1452] Unable to register cuBLAS factory: Attempting to register factory for plugin cuBLAS when one has already been registered\n",
      "2024-08-05 11:51:52.933165: I tensorflow/core/platform/cpu_feature_guard.cc:210] This TensorFlow binary is optimized to use available CPU instructions in performance-critical operations.\n",
      "To enable the following instructions: AVX2 FMA, in other operations, rebuild TensorFlow with the appropriate compiler flags.\n",
      "Some weights of the model checkpoint at microsoft/table-transformer-structure-recognition were not used when initializing TableTransformerForObjectDetection: ['model.backbone.conv_encoder.model.layer2.0.downsample.1.num_batches_tracked', 'model.backbone.conv_encoder.model.layer3.0.downsample.1.num_batches_tracked', 'model.backbone.conv_encoder.model.layer4.0.downsample.1.num_batches_tracked']\n",
      "- This IS expected if you are initializing TableTransformerForObjectDetection from the checkpoint of a model trained on another task or with another architecture (e.g. initializing a BertForSequenceClassification model from a BertForPreTraining model).\n",
      "- This IS NOT expected if you are initializing TableTransformerForObjectDetection from the checkpoint of a model that you expect to be exactly identical (initializing a BertForSequenceClassification model from a BertForSequenceClassification model).\n"
     ]
    }
   ],
   "source": [
    "image_pdf_folder_path = \"/home/sridhanya_ganapathi_team_neustar/rag/images\"\n",
    "pdf_file_name = \"/home/sridhanya_ganapathi_team_neustar/rag/data/contract_agreement.pdf\"\n",
    "\n",
    "# Extract images, tables, and chunk text from a PDF file.\n",
    "raw_pdf_elements = partition_pdf(\n",
    "    filename=pdf_file_name,\n",
    "    extract_images_in_pdf=True,\n",
    "    infer_table_structure=True,\n",
    "    chunking_strategy=\"by_title\",\n",
    "    max_characters=4000,\n",
    "    new_after_n_chars=3800,\n",
    "    combine_text_under_n_chars=2000,\n",
    "    image_output_dir_path=pdf_folder_path,\n",
    "    extract_image_block_types=[\"Image\", \"Table\"],\n",
    "    extract_image_block_output_dir=image_pdf_folder_path,\n",
    "    extract_image_block_to_payload=False\n",
    ")\n",
    "\n",
    "# Categorize extracted elements from a PDF into tables and texts.\n",
    "tables = []\n",
    "texts = []\n",
    "for element in raw_pdf_elements:\n",
    "    if \"unstructured.documents.elements.Table\" in str(type(element)):\n",
    "        tables.append(str(element))\n",
    "    elif \"unstructured.documents.elements.CompositeElement\" in str(type(element)):\n",
    "        texts.append(str(element))\n",
    "\n",
    "# Optional: Enforce a specific token size for texts\n",
    "text_splitter = CharacterTextSplitter.from_tiktoken_encoder(\n",
    "    chunk_size=10000, chunk_overlap=0\n",
    ")\n",
    "joined_texts = \" \".join(texts)\n",
    "texts_4k_token = text_splitter.split_text(joined_texts)"
   ]
  },
  {
   "cell_type": "code",
   "execution_count": 6,
   "id": "a22f145b-d14b-4dbb-bb99-3915ff7ab24f",
   "metadata": {},
   "outputs": [
    {
     "data": {
      "text/plain": [
       "5"
      ]
     },
     "execution_count": 6,
     "metadata": {},
     "output_type": "execute_result"
    }
   ],
   "source": [
    "len(texts)"
   ]
  },
  {
   "cell_type": "code",
   "execution_count": 7,
   "id": "bd2b0d1a-1dc5-4475-aa2a-43b00f6df8d3",
   "metadata": {},
   "outputs": [],
   "source": [
    "MODEL_NAME = \"gemini-1.0-pro-vision\"\n",
    "\n",
    "\n",
    "# Generate summaries of text elements\n",
    "def generate_text_summaries(\n",
    "    texts: List[str], tables: List[str], summarize_texts: bool = False\n",
    ") -> Tuple[List, List]:\n",
    "    \"\"\"\n",
    "    Summarize text elements\n",
    "    texts: List of str\n",
    "    tables: List of str\n",
    "    summarize_texts: Bool to summarize texts\n",
    "    \"\"\"\n",
    "\n",
    "    # Prompt\n",
    "    prompt_text = \"\"\"You are an assistant tasked with summarizing tables and text for retrieval. \\\n",
    "    These summaries will be embedded and used to retrieve the raw text or table elements. \\\n",
    "    Give a concise summary of the table or text that is well optimized for retrieval. Table or text: {element} \"\"\"\n",
    "    prompt = PromptTemplate.from_template(prompt_text)\n",
    "    empty_response = RunnableLambda(\n",
    "        lambda x: AIMessage(content=\"Error processing document\")\n",
    "    )\n",
    "    # Text summary chain\n",
    "    model = VertexAI(\n",
    "        temperature=0, model_name=MODEL_NAME, max_output_tokens=1024\n",
    "    ).with_fallbacks([empty_response])\n",
    "    summarize_chain = {\"element\": lambda x: x} | prompt | model | StrOutputParser()\n",
    "\n",
    "    # Initialize empty summaries\n",
    "    text_summaries = []\n",
    "    table_summaries = []\n",
    "\n",
    "    # Apply to text if texts are provided and summarization is requested\n",
    "    if texts:\n",
    "        if summarize_texts:\n",
    "            text_summaries = summarize_chain.batch(texts, {\"max_concurrency\": 1})\n",
    "        else:\n",
    "            text_summaries = texts\n",
    "\n",
    "    # Apply to tables if tables are provided\n",
    "    if tables:\n",
    "        table_summaries = summarize_chain.batch(tables, {\"max_concurrency\": 1})\n",
    "\n",
    "    return text_summaries, table_summaries\n",
    "\n",
    "\n",
    "# Get text, table summaries\n",
    "text_summaries, table_summaries = generate_text_summaries(\n",
    "    texts_4k_token, tables, summarize_texts=True\n",
    ")"
   ]
  },
  {
   "cell_type": "code",
   "execution_count": 8,
   "id": "0e7610ef-4653-4e14-b6e8-e3c1be07ab7f",
   "metadata": {},
   "outputs": [
    {
     "name": "stderr",
     "output_type": "stream",
     "text": [
      "/opt/conda/envs/llm/lib/python3.11/site-packages/langchain_core/_api/deprecation.py:139: LangChainDeprecationWarning: The method `BaseChatModel.__call__` was deprecated in langchain-core 0.1.7 and will be removed in 0.3.0. Use invoke instead.\n",
      "  warn_deprecated(\n"
     ]
    }
   ],
   "source": [
    "def encode_image(image_path):\n",
    "    \"\"\"Getting the base64 string\"\"\"\n",
    "    with open(image_path, \"rb\") as image_file:\n",
    "        return base64.b64encode(image_file.read()).decode(\"utf-8\")\n",
    "\n",
    "\n",
    "def image_summarize(img_base64, prompt):\n",
    "    \"\"\"Make image summary\"\"\"\n",
    "    model = ChatVertexAI(model_name=\"gemini-pro-vision\", max_output_tokens=1024)\n",
    "\n",
    "    msg = model(\n",
    "        [\n",
    "            HumanMessage(\n",
    "                content=[\n",
    "                    {\"type\": \"text\", \"text\": prompt},\n",
    "                    {\n",
    "                        \"type\": \"image_url\",\n",
    "                        \"image_url\": {\"url\": f\"data:image/png;base64,{img_base64}\"},\n",
    "                    },\n",
    "                ]\n",
    "            )\n",
    "        ]\n",
    "    )\n",
    "    return msg.content\n",
    "\n",
    "\n",
    "def generate_img_summaries(path):\n",
    "    \"\"\"\n",
    "    Generate summaries and base64 encoded strings for images\n",
    "    path: Path to list of .jpg files extracted by Unstructured\n",
    "    \"\"\"\n",
    "\n",
    "    # Store base64 encoded images\n",
    "    img_base64_list = []\n",
    "\n",
    "    # Store image summaries\n",
    "    image_summaries = []\n",
    "\n",
    "    # Prompt\n",
    "    prompt = \"\"\"You are an assistant tasked with summarizing images for retrieval. \\\n",
    "    These summaries will be embedded and used to retrieve the raw image. \\\n",
    "    Give a concise summary of the image that is well optimized for retrieval.\n",
    "    If it's a table, extract all elements of the table.\n",
    "    If it's a graph, explain the findings in the graph.\n",
    "    Do not include any numbers that are not mentioned in the image.\n",
    "    \"\"\"\n",
    "\n",
    "    # Apply to images\n",
    "    for img_file in sorted(os.listdir(path)):\n",
    "        if img_file.endswith(\".jpg\"):\n",
    "            img_path = os.path.join(path, img_file)\n",
    "            base64_image = encode_image(img_path)\n",
    "            img_base64_list.append(base64_image)\n",
    "            image_summaries.append(image_summarize(base64_image, prompt))\n",
    "\n",
    "    return img_base64_list, image_summaries\n",
    "\n",
    "\n",
    "# Image summaries\n",
    "img_base64_list, image_summaries = generate_img_summaries(image_pdf_folder_path)"
   ]
  },
  {
   "cell_type": "code",
   "execution_count": 10,
   "id": "6c3d2651-df95-4daf-bee7-c8d697d6a1b5",
   "metadata": {},
   "outputs": [
    {
     "data": {
      "text/plain": [
       "7"
      ]
     },
     "execution_count": 10,
     "metadata": {},
     "output_type": "execute_result"
    }
   ],
   "source": [
    "len(image_summaries)"
   ]
  },
  {
   "cell_type": "markdown",
   "id": "c5588b6d-1408-4d7b-98c0-bb65636910f4",
   "metadata": {},
   "source": [
    "## Create & Deploy Vertex AI Vector Search Index & Endpoint"
   ]
  },
  {
   "cell_type": "markdown",
   "id": "0f16d540-35db-4197-82cf-304cb5c9204a",
   "metadata": {},
   "source": [
    "https://console.cloud.google.com/vertex-ai/matching-engine/indexes \n",
    "https://cloud.google.com/vertex-ai/docs/vector-search/create-manage-index"
   ]
  },
  {
   "cell_type": "markdown",
   "id": "0b43cb2c-2316-4fa5-a482-cc614e4a5924",
   "metadata": {},
   "source": [
    "### Create MatchingEngineIndex"
   ]
  },
  {
   "cell_type": "code",
   "execution_count": 17,
   "id": "0513ecda-0508-462b-8da1-6ea257712361",
   "metadata": {},
   "outputs": [
    {
     "name": "stdout",
     "output_type": "stream",
     "text": [
      "Creating MatchingEngineIndex\n",
      "Create MatchingEngineIndex backing LRO: projects/199599498795/locations/us-central1/indexes/8493872460104466432/operations/2747521399936516096\n",
      "MatchingEngineIndex created. Resource name: projects/199599498795/locations/us-central1/indexes/8493872460104466432\n",
      "To use this MatchingEngineIndex in another session:\n",
      "index = aiplatform.MatchingEngineIndex('projects/199599498795/locations/us-central1/indexes/8493872460104466432')\n"
     ]
    }
   ],
   "source": [
    "DIMENSIONS = 768  # Dimensions output from textembedding-gecko\n",
    "DEPLOYED_INDEX = \"contract_agreement_rag_langchain_index\"\n",
    "DEPLOYED_ENDPOINT = \"contract_agreement_rag_langchain_index_endpoint\"\n",
    "DEPLOYED_INDEX_ENDPOINT_ID = \"contract_agreement_rag_langchain_deployed_index\"\n",
    "index = aiplatform.MatchingEngineIndex.create_tree_ah_index(\n",
    "    display_name=DEPLOYED_INDEX,\n",
    "    dimensions=DIMENSIONS,\n",
    "    approximate_neighbors_count=150,\n",
    "    leaf_node_embedding_count=500,\n",
    "    leaf_nodes_to_search_percent=7,\n",
    "    description=\"contract_agreement_en Multimodal RAG LangChain Index\",\n",
    ")"
   ]
  },
  {
   "cell_type": "markdown",
   "id": "dd1274dc-2685-4a74-a684-0f3350340af7",
   "metadata": {},
   "source": [
    "### Create MatchingEngineIndexEndpoint"
   ]
  },
  {
   "cell_type": "code",
   "execution_count": 18,
   "id": "afcc9d04-aaab-40ec-9f5a-ce4626be4f3e",
   "metadata": {},
   "outputs": [
    {
     "name": "stdout",
     "output_type": "stream",
     "text": [
      "Creating MatchingEngineIndexEndpoint\n",
      "Create MatchingEngineIndexEndpoint backing LRO: projects/199599498795/locations/us-central1/indexEndpoints/8227104550926942208/operations/5406052554968662016\n",
      "MatchingEngineIndexEndpoint created. Resource name: projects/199599498795/locations/us-central1/indexEndpoints/8227104550926942208\n",
      "To use this MatchingEngineIndexEndpoint in another session:\n",
      "index_endpoint = aiplatform.MatchingEngineIndexEndpoint('projects/199599498795/locations/us-central1/indexEndpoints/8227104550926942208')\n"
     ]
    }
   ],
   "source": [
    "\n",
    "\n",
    "index_endpoint = aiplatform.MatchingEngineIndexEndpoint.create(\n",
    "    display_name=DEPLOYED_ENDPOINT,\n",
    "    description=\"contract_agreement_en Multimodal RAG LangChain Index Endpoint\",\n",
    "    public_endpoint_enabled=True,\n",
    ")"
   ]
  },
  {
   "cell_type": "markdown",
   "id": "8f56d630-35a0-475b-9696-42cf5664716e",
   "metadata": {},
   "source": [
    "### Deploy Index to Index Endpoint\n",
    "https://console.cloud.google.com/vertex-ai/matching-engine/indexes"
   ]
  },
  {
   "cell_type": "code",
   "execution_count": 19,
   "id": "33981d52-2134-4d2f-a855-a1d143a44a12",
   "metadata": {},
   "outputs": [
    {
     "name": "stdout",
     "output_type": "stream",
     "text": [
      "Deploying index MatchingEngineIndexEndpoint index_endpoint: projects/199599498795/locations/us-central1/indexEndpoints/8227104550926942208\n",
      "Deploy index MatchingEngineIndexEndpoint index_endpoint backing LRO: projects/199599498795/locations/us-central1/indexEndpoints/8227104550926942208/operations/3069528773293506560\n",
      "MatchingEngineIndexEndpoint index_endpoint Deployed index. Resource name: projects/199599498795/locations/us-central1/indexEndpoints/8227104550926942208\n"
     ]
    },
    {
     "data": {
      "text/plain": [
       "[id: \"contract_agreement_rag_langchain_deployed_index\"\n",
       "index: \"projects/199599498795/locations/us-central1/indexes/8493872460104466432\"\n",
       "create_time {\n",
       "  seconds: 1722859428\n",
       "  nanos: 67340000\n",
       "}\n",
       "index_sync_time {\n",
       "  seconds: 1722860975\n",
       "  nanos: 6336000\n",
       "}\n",
       "automatic_resources {\n",
       "  min_replica_count: 2\n",
       "  max_replica_count: 2\n",
       "}\n",
       "deployment_group: \"default\"\n",
       "]"
      ]
     },
     "execution_count": 19,
     "metadata": {},
     "output_type": "execute_result"
    }
   ],
   "source": [
    "index_endpoint = index_endpoint.deploy_index(\n",
    "    index=index, deployed_index_id=DEPLOYED_INDEX_ENDPOINT_ID\n",
    ")\n",
    "index_endpoint.deployed_indexes"
   ]
  },
  {
   "cell_type": "markdown",
   "id": "a02b76d0-e70e-49e1-866f-517762d10cd4",
   "metadata": {},
   "source": [
    "### Create retriever & load documents"
   ]
  },
  {
   "cell_type": "code",
   "execution_count": 20,
   "id": "84fa017e-ea2c-443e-9c40-2032df10483c",
   "metadata": {},
   "outputs": [],
   "source": [
    "# The vectorstore to use to index the summaries\n",
    "vectorstore = VectorSearchVectorStore.from_components(\n",
    "    project_id=PROJECT_ID,\n",
    "    region=LOCATION,\n",
    "    gcs_bucket_name=GCS_BUCKET,\n",
    "    index_id=index.name,\n",
    "    endpoint_id=index_endpoint.name,\n",
    "    embedding=VertexAIEmbeddings(model_name=\"textembedding-gecko@002\"),\n",
    ")\n"
   ]
  },
  {
   "cell_type": "code",
   "execution_count": 21,
   "id": "2783028d-71f9-4008-bc52-0b651c061934",
   "metadata": {},
   "outputs": [],
   "source": [
    "docstore = InMemoryStore()\n",
    "\n",
    "id_key = \"doc_id\"\n",
    "# Create the multi-vector retriever\n",
    "retriever_multi_vector_img = MultiVectorRetriever(\n",
    "    vectorstore=vectorstore,\n",
    "    docstore=docstore,\n",
    "    id_key=id_key,\n",
    ")"
   ]
  },
  {
   "cell_type": "code",
   "execution_count": 22,
   "id": "6f28317a-6a63-4f1a-b3ca-9dfdec7252f3",
   "metadata": {},
   "outputs": [],
   "source": [
    "doc_contents = texts + tables + img_base64_list"
   ]
  },
  {
   "cell_type": "code",
   "execution_count": 23,
   "id": "1aaaff2b-db6a-4fd3-99fb-01920435975d",
   "metadata": {},
   "outputs": [],
   "source": [
    "doc_ids = [str(uuid.uuid4()) for _ in doc_contents]"
   ]
  },
  {
   "cell_type": "code",
   "execution_count": 24,
   "id": "b0b4869b-30ed-490e-9b27-04c290d68faa",
   "metadata": {},
   "outputs": [],
   "source": [
    "# remove empty content\n",
    "image_summaries2=[]\n",
    "import re\n",
    "for i in range(0,len(image_summaries)):\n",
    "    if (image_summaries[i] != ''):\n",
    "        image_summaries2.append(image_summaries[i])"
   ]
  },
  {
   "cell_type": "code",
   "execution_count": 25,
   "id": "4a4ae55d-61a1-458f-8ccf-a8c8571cb847",
   "metadata": {},
   "outputs": [],
   "source": [
    "summary_docs = [\n",
    "    Document(page_content=s, metadata={id_key: doc_ids[i]})\n",
    "    for i, s in enumerate(text_summaries + table_summaries + image_summaries2)\n",
    "]"
   ]
  },
  {
   "cell_type": "code",
   "execution_count": 26,
   "id": "40f96f9c-8177-45cc-8206-5271712dc426",
   "metadata": {},
   "outputs": [],
   "source": [
    "retriever_multi_vector_img.docstore.mset(list(zip(doc_ids, doc_contents)))"
   ]
  },
  {
   "cell_type": "code",
   "execution_count": null,
   "id": "93a9921b-1616-44db-87ef-315d98e73943",
   "metadata": {},
   "outputs": [
    {
     "name": "stdout",
     "output_type": "stream",
     "text": [
      "Updating MatchingEngineIndex index: projects/199599498795/locations/us-central1/indexes/8493872460104466432\n",
      "Update MatchingEngineIndex index backing LRO: projects/199599498795/locations/us-central1/indexes/8493872460104466432/operations/1838920175114518528\n"
     ]
    }
   ],
   "source": [
    "# If using Vertex AI Vector Search, this will take a while to complete.\n",
    "# You can cancel this cell and continue later.\n",
    "retriever_multi_vector_img.vectorstore.add_documents(summary_docs)"
   ]
  },
  {
   "cell_type": "markdown",
   "id": "3a44e4e1-4ec6-4266-90b3-7b3da3dc599a",
   "metadata": {},
   "source": [
    "### Create Chain with Retriever and Gemini LLM\n"
   ]
  },
  {
   "cell_type": "code",
   "execution_count": 32,
   "id": "456d6403-c8b4-4cf0-89ec-25fba5adc454",
   "metadata": {},
   "outputs": [],
   "source": [
    "def looks_like_base64(sb):\n",
    "    \"\"\"Check if the string looks like base64\"\"\"\n",
    "    return re.match(\"^[A-Za-z0-9+/]+[=]{0,2}$\", sb) is not None\n",
    "\n",
    "\n",
    "def is_image_data(b64data):\n",
    "    \"\"\"\n",
    "    Check if the base64 data is an image by looking at the start of the data\n",
    "    \"\"\"\n",
    "    image_signatures = {\n",
    "        b\"\\xFF\\xD8\\xFF\": \"jpg\",\n",
    "        b\"\\x89\\x50\\x4E\\x47\\x0D\\x0A\\x1A\\x0A\": \"png\",\n",
    "        b\"\\x47\\x49\\x46\\x38\": \"gif\",\n",
    "        b\"\\x52\\x49\\x46\\x46\": \"webp\",\n",
    "    }\n",
    "    try:\n",
    "        header = base64.b64decode(b64data)[:8]  # Decode and get the first 8 bytes\n",
    "        for sig, format in image_signatures.items():\n",
    "            if header.startswith(sig):\n",
    "                return True\n",
    "        return False\n",
    "    except Exception:\n",
    "        return False\n",
    "\n",
    "\n",
    "def split_image_text_types(docs):\n",
    "    \"\"\"\n",
    "    Split base64-encoded images and texts\n",
    "    \"\"\"\n",
    "    b64_images = []\n",
    "    texts = []\n",
    "    for doc in docs:\n",
    "        # Check if the document is of type Document and extract page_content if so\n",
    "        if isinstance(doc, Document):\n",
    "            doc = doc.page_content\n",
    "        if looks_like_base64(doc) and is_image_data(doc):\n",
    "            b64_images.append(doc)\n",
    "        else:\n",
    "            texts.append(doc)\n",
    "    return {\"images\": b64_images, \"texts\": texts}\n",
    "\n",
    "\n",
    "def img_prompt_func(data_dict):\n",
    "    \"\"\"\n",
    "    Join the context into a single string\n",
    "    \"\"\"\n",
    "    formatted_texts = \"\\n\".join(data_dict[\"context\"][\"texts\"])\n",
    "    messages = [\n",
    "        {\n",
    "            \"type\": \"text\",\n",
    "            \"text\": (\n",
    "                \"You are financial analyst tasking with providing investment advice.\\n\"\n",
    "                \"You will be given a mix of text, tables, and image(s) usually of charts or graphs.\\n\"\n",
    "                \"Use this information to provide investment advice related to the user's question. \\n\"\n",
    "                f\"User-provided question: {data_dict['question']}\\n\\n\"\n",
    "                \"Text and / or tables:\\n\"\n",
    "                f\"{formatted_texts}\"\n",
    "            ),\n",
    "        }\n",
    "    ]\n",
    "\n",
    "    # Adding image(s) to the messages if present\n",
    "    if data_dict[\"context\"][\"images\"]:\n",
    "        for image in data_dict[\"context\"][\"images\"]:\n",
    "            messages.append(\n",
    "                {\n",
    "                    \"type\": \"image_url\",\n",
    "                    \"image_url\": {\"url\": f\"data:image/jpeg;base64,{image}\"},\n",
    "                }\n",
    "            )\n",
    "    return [HumanMessage(content=messages)]\n",
    "\n",
    "\n",
    "# Create RAG chain\n",
    "chain_multimodal_rag = (\n",
    "    {\n",
    "        \"context\": retriever_multi_vector_img | RunnableLambda(split_image_text_types),\n",
    "        \"question\": RunnablePassthrough(),\n",
    "    }\n",
    "    | RunnableLambda(img_prompt_func)\n",
    "    | ChatVertexAI(\n",
    "        temperature=0, model_name=\"gemini-pro-vision\", max_output_tokens=1024\n",
    "    )  # Multi-modal LLM\n",
    "    | StrOutputParser()\n",
    ")"
   ]
  },
  {
   "cell_type": "code",
   "execution_count": 33,
   "id": "91bd4447-4db4-4ed7-b0a0-95b0c2a6b837",
   "metadata": {},
   "outputs": [],
   "source": [
    "query = \"\"\"\n",
    " - Who originally signed this contract?\n",
    " - What is the effective date of the contract?\n",
    " - Who is the address of the client?\n",
    "\"\"\""
   ]
  },
  {
   "cell_type": "code",
   "execution_count": 36,
   "id": "00d2c7e6-c17a-46d7-ab08-799a401a63a1",
   "metadata": {},
   "outputs": [
    {
     "name": "stdout",
     "output_type": "stream",
     "text": [
      "['A] iE P.O. Box 1749 Halifax, Nova Scotia REGIONAL MUNICIPALITY B3J 3A5 Canada\\n\\nHalifax Regional Council August 6, 2013\\n\\nItem No. 14.1\\n\\nTO:         Mayor Savage and Members of Halifax Regional Council                  SUBMITTED BY:  ___________________________________________________________                                       Richard Butts, Chief Administrative Officer         __________________________________________________________  Mike Labrecque, Deputy Chief Administrative Officer      DATE:      July 31, 2013      SUBJECT:   Non-Disclosure Agreement with the Province of Nova Scotia   \\n\\n  \\n\\n     \\n\\nORIGIN\\n\\nOn June 25, 2013, Regional Council authorized the CAO to negotiate and execute an agreement for SAP support services with the Province of Nova Scotia.\\n\\nLEGISLATIVE AUTHORITY\\n\\nUnder section 58(5) of the HRM Charter, Regional Council has the power to make and carry out a contract. Under section 10(3) of the HRM Charter, the Mayor and Clerk may sign any document to which the Municipality is a party on behalf of the Municipality.\\n\\nRECOMMENDATION\\n\\nIt is recommended that Regional Council authorize the Mayor and Clerk to sign a Non- Disclosure Agreement with the Province of Nova Scotia with terms and conditions substantially similar to the draft agreement attached hereto as Attachment “A”.\\n\\nNon-Disclosure Agreement with the Province of NS - 2 - Council Report\\n\\nAugust 6, 2013\\n\\nBACKGROUND\\n\\nIn furtherance of the June 25, 2013 directive of Regional Council, staff entered into negotiations with the Province of Nova Scotia (“PNS”) on those terms and conditions that were not already agreed to during transition planning.\\n\\nDISCUSSION\\n\\nIt became apparent during these negotiations that HRM staff needed to be made aware of certain key terms of the PNS’ agreement with its SAP service provider in order to understand and be in a position to negotiate for appropriate service level standards. The PNS has taken the position that it cannot disclose this and other information to HRM unless HRM and the PNS enter into a mutual Non-Disclosure Agreement.\\n\\nOn July 26, 2013, the PNS forwarded a proposed Non-Disclosure Agreement to staff. This Non- Disclosure Agreement permits the PNS and HRM to disclose confidential information to each other during the period of negotiations. Any confidential information exchanged between HRM and the PNS “shall only be used for the purposes of facilitating the business relationship between the Parties” and once the agreement terminates each party must “promptly return or destroy” all confidential information received from the other party.\\n\\nIt is the intention of HRM and the PNS to execute an agreement for the provision of SAP support services before September 9, 2013. As a result, staff is seeking direction on this matter from Regional Council on August 6, 2013, rather than waiting for the next scheduled meeting of Regional Council on September 10, 2013.', 'OF THE SECOND PART\\n\\nWHEREAS the Province of Nova Scotia (the “Province”) and Halifax Regional Municipality (the “HRM”) hereinafter referred to as the “Receiving or Disclosing Party” or “Parties”, may be facilitating the potential transaction of business related to the provision of SAP Services by the Province to the HRM where each Party may disclose certain confidential information to each other.\\n\\nAND WHEREAS each Party wishes to ensure that the other treats this information in the strictest confidence.\\n\\nNOW THEREFORE in consideration of the promises and mutual covenants contained herein, and other good and valuable consideration, the receipt of which is hereby acknowledged, the Parties agree as follows:\\n\\n1. The confidential, proprietary and trade secret information of the Disclosing Party (hereinafter \"Confidential Information\") provided hereunder is any and all information, in whatever form (including electronic data) that will be disclosed to facilitate the potential transaction of business (related to the provision of SAP Services to HRM) between the Parties, including, but not limited to, portions or parts of the November 1, 2012 Agreement (including any schedules or appendices) between the Province of Nova Scotia and IBM, each Party\\'s disclosure of intellectual property, techniques, sketches, drawings, models, inventions, know-how, processes, apparatus, equipment, algorithms, software programs, software source documents, and formulae related to the current, future and proposed products, documents and services, research, experimental work, development, design details and specifications, engineering, financial information, procurement requirements, purchasing, forecasts, sales and manufacturing, merchandizing, and marketing plans and information. For purposes of this Agreement confidential, proprietary and trade secret information of the Province’s SAP Service Provider or any other Province’s Service Provider, any parent company, subsidiary or affiliate of the Disclosing party shall be considered Confidential Information of the Disclosing Party for purposes of this Agreement.\\n\\n2. The term Confidential Information shall not include information, which is:\\n\\n(a) in the public domain other than by a breach of this Agreement by the Receiving Party; or\\n\\n2\\n\\n(b) (c)\\n\\n(d) (e)\\n\\nrightfully received from a third party with no duty of confidentiality; or rightfully known to the Receiving Party without any limitation on use or disclosure prior to its receipt from the Disclosing Party; or independently developed by employees, agents or consultants of the Receiving Party; or generally made available to third parties by the Disclosing Party without restriction on disclosure.\\n\\n3. The Receiving Party agrees that Confidential Information shall be used only for the purposes of facilitating the business relationship between the Parties. Additionally, subject to section 4 below, the Receiving Party shall not disclose Confidential Information to any third party without the prior written approval of the Disclosing Party. The Receiving Party shall maintain the Confidential Information with at least the same degree of care that the Receiving Party uses to protect its own similar categories of confidential and proprietary information, but no less than a reasonable degree of care under the circumstances. The Receiving Party shall not make any copies of Confidential Information except as necessary to perform hereunder. Each Party shall be responsible for any breach of this Agreement by such Party, its employees, agents, officials, representatives or consultants acting within the scope of their engagement or employment.\\n\\n4. The HRM acknowledges and agrees that the Province may disclose the Confidential Information received from the HRM to its external or internal auditors, as well as the Province’s SAP Service Provider or Province’s other service providers for the purpose of provision or extension of the SAP Services to HRM.']\n"
     ]
    },
    {
     "data": {
      "image/jpeg": "[encoded data removed]",
      "text/plain": [
       "<IPython.core.display.Image object>"
      ]
     },
     "metadata": {},
     "output_type": "display_data"
    },
    {
     "data": {
      "image/jpeg": "[encoded data removed]",
      "text/plain": [
       "<IPython.core.display.Image object>"
      ]
     },
     "metadata": {},
     "output_type": "display_data"
    }
   ],
   "source": [
    "# List of source documents\n",
    "docs = retriever_multi_vector_img.get_relevant_documents(query, limit=10)\n",
    "\n",
    "source_docs = split_image_text_types(docs)\n",
    "\n",
    "print(source_docs[\"texts\"])\n",
    "\n",
    "for i in source_docs[\"images\"]:\n",
    "    display(Image(base64.b64decode(i)))"
   ]
  },
  {
   "cell_type": "code",
   "execution_count": 37,
   "id": "2eb301ae-e5b9-4df5-9e5b-20a582bff6fd",
   "metadata": {},
   "outputs": [
    {
     "data": {
      "text/plain": [
       "' - The contract was originally signed by Mayor Savage and the Members of Halifax Regional Council.\\n\\n\\n- The effective date of the contract is August 6, 2013.\\n\\n\\n- The address of the client is P.O. Box 1749 Halifax, Nova Scotia B3J 3A5 Canada.'"
      ]
     },
     "execution_count": 37,
     "metadata": {},
     "output_type": "execute_result"
    }
   ],
   "source": [
    "chain_multimodal_rag.invoke(query)"
   ]
  },
  {
   "cell_type": "markdown",
   "id": "36df0114-95da-414a-a960-5880e08196e5",
   "metadata": {},
   "source": [
    "### Cleanup of resources"
   ]
  },
  {
   "cell_type": "markdown",
   "id": "8a78506c-a9b0-4ff1-9071-1c8b9ae4f041",
   "metadata": {},
   "source": [
    "\n",
    "from google.cloud import aiplatform\n",
    "\n",
    "# List all indexes\n",
    "indexes = aiplatform.MatchingEngineIndex.list()\n",
    "\n",
    "# List all endpoints\n",
    "endpoints = aiplatform.MatchingEngineIndexEndpoint.list()\n",
    "\n",
    "# Extract and list the names of the indexes and endpoints\n",
    "index_names = [index.display_name for index in indexes]\n",
    "endpoint_names = [endpoint.display_name for endpoint in endpoints]\n",
    "\n",
    "\n",
    "# Print the names of the indexes and endpoints\n",
    "print(\"Index Names:\")\n",
    "print(index_names)\n",
    "print(\"\\nEndpoint Names:\")\n",
    "print(endpoint_names)"
   ]
  },
  {
   "cell_type": "markdown",
   "id": "19a6d8b9-6bd0-4235-bb09-e82c5e16c989",
   "metadata": {},
   "source": [
    "# Delete all indexes\n",
    "for index in indexes:\n",
    "    index.delete()\n",
    "\n",
    "# Delete all endpoints\n",
    "for endpoint in endpoints:\n",
    "    endpoint.delete()"
   ]
  },
  {
   "cell_type": "code",
   "execution_count": null,
   "id": "a15aa853-5a61-4ef4-a497-afc3e76a79ed",
   "metadata": {},
   "outputs": [],
   "source": []
  }
 ],
 "metadata": {
  "kernelspec": {
   "display_name": "llm",
   "language": "python",
   "name": "llm"
  },
  "language_info": {
   "codemirror_mode": {
    "name": "ipython",
    "version": 3
   },
   "file_extension": ".py",
   "mimetype": "text/x-python",
   "name": "python",
   "nbconvert_exporter": "python",
   "pygments_lexer": "ipython3",
   "version": "3.11.9"
  },
  "widgets": {
   "application/vnd.jupyter.widget-state+json": {
    "state": {},
    "version_major": 2,
    "version_minor": 0
   }
  }
 },
 "nbformat": 4,
 "nbformat_minor": 5
}
